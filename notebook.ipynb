{
 "cells": [
  {
   "cell_type": "code",
   "execution_count": 1,
   "id": "2ae47269",
   "metadata": {},
   "outputs": [
    {
     "name": "stderr",
     "output_type": "stream",
     "text": [
      "[nltk_data] Downloading package stopwords to C:\\Users\\JATIN PRATAP\n",
      "[nltk_data]     SINGH\\AppData\\Roaming\\nltk_data...\n",
      "[nltk_data]   Package stopwords is already up-to-date!\n"
     ]
    }
   ],
   "source": [
    "from script import *"
   ]
  },
  {
   "cell_type": "code",
   "execution_count": 2,
   "id": "fcca1025",
   "metadata": {},
   "outputs": [],
   "source": [
    "#importing the synthetic dataset\n",
    "df1 = pd.read_csv(\"Datasets/synthetic_hate_speech_dataset.csv\")"
   ]
  },
  {
   "cell_type": "code",
   "execution_count": 3,
   "id": "739e9b28",
   "metadata": {},
   "outputs": [],
   "source": [
    "#importing the real dataset and then creating a random sample out of it\n",
    "# df2 = pd.read_csv(\"Datasets/HateSpeechDataset.csv\")\n",
    "# sampling(df = df2, n=4000)\n",
    "\n",
    "#this cell was to be run only once just to create the random sample, for future this is being commented out\n",
    "#but still here just for others to get the reference."
   ]
  },
  {
   "cell_type": "code",
   "execution_count": 4,
   "id": "0d934f5c",
   "metadata": {},
   "outputs": [],
   "source": [
    "# non_hate = df2[df2[\"Label\"] == 0].sample(n = 1000, random_state=0)"
   ]
  },
  {
   "cell_type": "code",
   "execution_count": 5,
   "id": "85d8bde7",
   "metadata": {},
   "outputs": [],
   "source": [
    "# non_hate.head()"
   ]
  },
  {
   "cell_type": "code",
   "execution_count": 6,
   "id": "808fb4b0",
   "metadata": {},
   "outputs": [],
   "source": [
    "# non_hate.to_csv('Datasets/random_sample.csv', mode='a', header=False, index=False)"
   ]
  },
  {
   "cell_type": "code",
   "execution_count": 7,
   "id": "e7a9810e",
   "metadata": {},
   "outputs": [],
   "source": [
    "df2 = pd.read_csv(\"Datasets/random_sample.csv\")"
   ]
  },
  {
   "cell_type": "code",
   "execution_count": 8,
   "id": "d71a7630",
   "metadata": {},
   "outputs": [],
   "source": [
    "df1[\"Content\"] = df1[\"Content\"].astype(df2[\"Content\"].dtype)"
   ]
  },
  {
   "cell_type": "code",
   "execution_count": 9,
   "id": "3e533a1a",
   "metadata": {},
   "outputs": [],
   "source": [
    "df = pd.concat([df1, df2], axis = 0, ignore_index=True)"
   ]
  },
  {
   "cell_type": "code",
   "execution_count": 10,
   "id": "5cc407c5",
   "metadata": {},
   "outputs": [
    {
     "data": {
      "text/plain": [
       "Label\n",
       "0    6494\n",
       "1    5506\n",
       "Name: count, dtype: int64"
      ]
     },
     "execution_count": 10,
     "metadata": {},
     "output_type": "execute_result"
    }
   ],
   "source": [
    "df[\"Label\"].value_counts()"
   ]
  },
  {
   "cell_type": "code",
   "execution_count": 11,
   "id": "a709a8eb",
   "metadata": {},
   "outputs": [
    {
     "data": {
      "text/html": [
       "<div>\n",
       "<style scoped>\n",
       "    .dataframe tbody tr th:only-of-type {\n",
       "        vertical-align: middle;\n",
       "    }\n",
       "\n",
       "    .dataframe tbody tr th {\n",
       "        vertical-align: top;\n",
       "    }\n",
       "\n",
       "    .dataframe thead th {\n",
       "        text-align: right;\n",
       "    }\n",
       "</style>\n",
       "<table border=\"1\" class=\"dataframe\">\n",
       "  <thead>\n",
       "    <tr style=\"text-align: right;\">\n",
       "      <th></th>\n",
       "      <th>Content</th>\n",
       "      <th>Label</th>\n",
       "    </tr>\n",
       "  </thead>\n",
       "  <tbody>\n",
       "    <tr>\n",
       "      <th>11995</th>\n",
       "      <td>she can just fucking call the venue about it a...</td>\n",
       "      <td>0</td>\n",
       "    </tr>\n",
       "    <tr>\n",
       "      <th>11996</th>\n",
       "      <td>solanus casey please do not copy and paste mat...</td>\n",
       "      <td>0</td>\n",
       "    </tr>\n",
       "    <tr>\n",
       "      <th>11997</th>\n",
       "      <td>so aussie you reckon it should be put as colli...</td>\n",
       "      <td>0</td>\n",
       "    </tr>\n",
       "    <tr>\n",
       "      <th>11998</th>\n",
       "      <td>dear apology accepted regarding the link and i...</td>\n",
       "      <td>0</td>\n",
       "    </tr>\n",
       "    <tr>\n",
       "      <th>11999</th>\n",
       "      <td>i think that the brushstrokes series article s...</td>\n",
       "      <td>0</td>\n",
       "    </tr>\n",
       "  </tbody>\n",
       "</table>\n",
       "</div>"
      ],
      "text/plain": [
       "                                                 Content  Label\n",
       "11995  she can just fucking call the venue about it a...      0\n",
       "11996  solanus casey please do not copy and paste mat...      0\n",
       "11997  so aussie you reckon it should be put as colli...      0\n",
       "11998  dear apology accepted regarding the link and i...      0\n",
       "11999  i think that the brushstrokes series article s...      0"
      ]
     },
     "execution_count": 11,
     "metadata": {},
     "output_type": "execute_result"
    }
   ],
   "source": [
    "df.tail()"
   ]
  },
  {
   "cell_type": "code",
   "execution_count": 12,
   "id": "6409946a",
   "metadata": {},
   "outputs": [
    {
     "data": {
      "text/html": [
       "<div>\n",
       "<style scoped>\n",
       "    .dataframe tbody tr th:only-of-type {\n",
       "        vertical-align: middle;\n",
       "    }\n",
       "\n",
       "    .dataframe tbody tr th {\n",
       "        vertical-align: top;\n",
       "    }\n",
       "\n",
       "    .dataframe thead th {\n",
       "        text-align: right;\n",
       "    }\n",
       "</style>\n",
       "<table border=\"1\" class=\"dataframe\">\n",
       "  <thead>\n",
       "    <tr style=\"text-align: right;\">\n",
       "      <th></th>\n",
       "      <th>Content</th>\n",
       "      <th>Label</th>\n",
       "    </tr>\n",
       "  </thead>\n",
       "  <tbody>\n",
       "    <tr>\n",
       "      <th>0</th>\n",
       "      <td>religion is suffering because of citizens of c...</td>\n",
       "      <td>1</td>\n",
       "    </tr>\n",
       "    <tr>\n",
       "      <th>1</th>\n",
       "      <td>Understanding and respect are key in politics ...</td>\n",
       "      <td>0</td>\n",
       "    </tr>\n",
       "    <tr>\n",
       "      <th>2</th>\n",
       "      <td>Everyone should have equal rights in politics,...</td>\n",
       "      <td>0</td>\n",
       "    </tr>\n",
       "    <tr>\n",
       "      <th>3</th>\n",
       "      <td>Diversity in politics makes it more vibrant an...</td>\n",
       "      <td>0</td>\n",
       "    </tr>\n",
       "    <tr>\n",
       "      <th>4</th>\n",
       "      <td>disability is suffering because of team members.</td>\n",
       "      <td>1</td>\n",
       "    </tr>\n",
       "  </tbody>\n",
       "</table>\n",
       "</div>"
      ],
      "text/plain": [
       "                                             Content  Label\n",
       "0  religion is suffering because of citizens of c...      1\n",
       "1  Understanding and respect are key in politics ...      0\n",
       "2  Everyone should have equal rights in politics,...      0\n",
       "3  Diversity in politics makes it more vibrant an...      0\n",
       "4   disability is suffering because of team members.      1"
      ]
     },
     "execution_count": 12,
     "metadata": {},
     "output_type": "execute_result"
    }
   ],
   "source": [
    "df.head()"
   ]
  },
  {
   "cell_type": "code",
   "execution_count": 13,
   "id": "f35deaa9",
   "metadata": {},
   "outputs": [],
   "source": [
    "#preprocessing using the script \n",
    "corpus = preprocessing(df[\"Content\"])"
   ]
  },
  {
   "cell_type": "code",
   "execution_count": 14,
   "id": "ed157b09",
   "metadata": {},
   "outputs": [
    {
     "data": {
      "text/plain": [
       "array([[ 160,    9,  152, ...,    0,    0,    0],\n",
       "       [ 140,    8,  131, ...,    0,    0,    0],\n",
       "       [ 106,   32,   18, ...,    0,    0,    0],\n",
       "       ...,\n",
       "       [  33, 3910,    6, ...,    0,    0,    0],\n",
       "       [1151, 2505, 1156, ...,  836,    7,  390],\n",
       "       [   5,   70,   13, ...,    0,    0,    0]], dtype=int32)"
      ]
     },
     "execution_count": 14,
     "metadata": {},
     "output_type": "execute_result"
    }
   ],
   "source": [
    "corpus"
   ]
  },
  {
   "cell_type": "code",
   "execution_count": 15,
   "id": "eac1a27c",
   "metadata": {},
   "outputs": [
    {
     "data": {
      "text/plain": [
       "(12000, 100)"
      ]
     },
     "execution_count": 15,
     "metadata": {},
     "output_type": "execute_result"
    }
   ],
   "source": [
    "corpus.shape"
   ]
  },
  {
   "cell_type": "code",
   "execution_count": 16,
   "id": "cd734a9f",
   "metadata": {},
   "outputs": [],
   "source": [
    "x = corpus"
   ]
  },
  {
   "cell_type": "code",
   "execution_count": 17,
   "id": "fbde32f6",
   "metadata": {},
   "outputs": [],
   "source": [
    "y = df[\"Label\"].values"
   ]
  },
  {
   "cell_type": "code",
   "execution_count": 18,
   "id": "768f408b",
   "metadata": {},
   "outputs": [],
   "source": [
    "#splitting the dataset for training and testing\n",
    "x_train, x_test, y_train, y_test = split(x, y)"
   ]
  },
  {
   "cell_type": "code",
   "execution_count": 19,
   "id": "6ca183c5",
   "metadata": {},
   "outputs": [
    {
     "name": "stderr",
     "output_type": "stream",
     "text": [
      "c:\\Users\\JATIN PRATAP SINGH\\AppData\\Local\\Programs\\Python\\Python312\\Lib\\site-packages\\keras\\src\\layers\\core\\embedding.py:97: UserWarning: Argument `input_length` is deprecated. Just remove it.\n",
      "  warnings.warn(\n"
     ]
    }
   ],
   "source": [
    "#initializing the sequential model with LSTM layer on the training set after performing the embedding\n",
    "model = Sequential([\n",
    "    Embedding(input_dim=vocab_size, output_dim=128, input_length=max_len),\n",
    "    LSTM(64),\n",
    "    Dense(1, activation='sigmoid')  # Binary classification\n",
    "])"
   ]
  },
  {
   "cell_type": "code",
   "execution_count": 20,
   "id": "b1ec7202",
   "metadata": {},
   "outputs": [],
   "source": [
    "model.compile(loss='binary_crossentropy', optimizer='adam', metrics=['accuracy'])"
   ]
  },
  {
   "cell_type": "code",
   "execution_count": 21,
   "id": "2eb9e19e",
   "metadata": {},
   "outputs": [
    {
     "name": "stdout",
     "output_type": "stream",
     "text": [
      "Epoch 1/10\n",
      "\u001b[1m300/300\u001b[0m \u001b[32m━━━━━━━━━━━━━━━━━━━━\u001b[0m\u001b[37m\u001b[0m \u001b[1m10s\u001b[0m 29ms/step - accuracy: 0.5471 - loss: 0.6885 - val_accuracy: 0.5350 - val_loss: 0.6817\n",
      "Epoch 2/10\n",
      "\u001b[1m300/300\u001b[0m \u001b[32m━━━━━━━━━━━━━━━━━━━━\u001b[0m\u001b[37m\u001b[0m \u001b[1m9s\u001b[0m 29ms/step - accuracy: 0.5338 - loss: 0.6718 - val_accuracy: 0.5367 - val_loss: 0.6742\n",
      "Epoch 3/10\n",
      "\u001b[1m300/300\u001b[0m \u001b[32m━━━━━━━━━━━━━━━━━━━━\u001b[0m\u001b[37m\u001b[0m \u001b[1m10s\u001b[0m 34ms/step - accuracy: 0.5631 - loss: 0.6466 - val_accuracy: 0.7504 - val_loss: 0.5171\n",
      "Epoch 4/10\n",
      "\u001b[1m300/300\u001b[0m \u001b[32m━━━━━━━━━━━━━━━━━━━━\u001b[0m\u001b[37m\u001b[0m \u001b[1m10s\u001b[0m 33ms/step - accuracy: 0.8226 - loss: 0.4275 - val_accuracy: 0.8517 - val_loss: 0.3426\n",
      "Epoch 5/10\n",
      "\u001b[1m300/300\u001b[0m \u001b[32m━━━━━━━━━━━━━━━━━━━━\u001b[0m\u001b[37m\u001b[0m \u001b[1m10s\u001b[0m 33ms/step - accuracy: 0.9339 - loss: 0.1893 - val_accuracy: 0.8550 - val_loss: 0.3592\n",
      "Epoch 6/10\n",
      "\u001b[1m300/300\u001b[0m \u001b[32m━━━━━━━━━━━━━━━━━━━━\u001b[0m\u001b[37m\u001b[0m \u001b[1m10s\u001b[0m 33ms/step - accuracy: 0.9718 - loss: 0.0905 - val_accuracy: 0.8446 - val_loss: 0.4297\n",
      "Epoch 7/10\n",
      "\u001b[1m300/300\u001b[0m \u001b[32m━━━━━━━━━━━━━━━━━━━━\u001b[0m\u001b[37m\u001b[0m \u001b[1m11s\u001b[0m 35ms/step - accuracy: 0.9840 - loss: 0.0516 - val_accuracy: 0.8517 - val_loss: 0.5050\n",
      "Epoch 8/10\n",
      "\u001b[1m300/300\u001b[0m \u001b[32m━━━━━━━━━━━━━━━━━━━━\u001b[0m\u001b[37m\u001b[0m \u001b[1m11s\u001b[0m 35ms/step - accuracy: 0.9930 - loss: 0.0261 - val_accuracy: 0.8392 - val_loss: 0.6304\n",
      "Epoch 9/10\n",
      "\u001b[1m300/300\u001b[0m \u001b[32m━━━━━━━━━━━━━━━━━━━━\u001b[0m\u001b[37m\u001b[0m \u001b[1m11s\u001b[0m 36ms/step - accuracy: 0.9921 - loss: 0.0310 - val_accuracy: 0.8475 - val_loss: 0.6414\n",
      "Epoch 10/10\n",
      "\u001b[1m300/300\u001b[0m \u001b[32m━━━━━━━━━━━━━━━━━━━━\u001b[0m\u001b[37m\u001b[0m \u001b[1m10s\u001b[0m 35ms/step - accuracy: 0.9952 - loss: 0.0190 - val_accuracy: 0.8388 - val_loss: 0.7646\n"
     ]
    },
    {
     "data": {
      "text/plain": [
       "<keras.src.callbacks.history.History at 0x144b63c37d0>"
      ]
     },
     "execution_count": 21,
     "metadata": {},
     "output_type": "execute_result"
    }
   ],
   "source": [
    "model.fit(x_train, y_train, epochs=10, batch_size=32, validation_data=(x_test, y_test))"
   ]
  },
  {
   "cell_type": "code",
   "execution_count": 22,
   "id": "aeb2a40a",
   "metadata": {},
   "outputs": [
    {
     "name": "stdout",
     "output_type": "stream",
     "text": [
      "\u001b[1m75/75\u001b[0m \u001b[32m━━━━━━━━━━━━━━━━━━━━\u001b[0m\u001b[37m\u001b[0m \u001b[1m1s\u001b[0m 12ms/step\n"
     ]
    }
   ],
   "source": [
    "#predicting the test set results\n",
    "y_pred = model.predict(x_test)"
   ]
  },
  {
   "cell_type": "code",
   "execution_count": 23,
   "id": "b64906dd",
   "metadata": {},
   "outputs": [],
   "source": [
    "y_pred = (y_pred > 0.5).astype(int)"
   ]
  },
  {
   "cell_type": "code",
   "execution_count": 24,
   "id": "23582f7e",
   "metadata": {},
   "outputs": [
    {
     "data": {
      "text/plain": [
       "'The accuracy score for the actual and predicted values is 0.83875 \\nand the confusion matrix is [[1030  253]\\n [ 134  983]]'"
      ]
     },
     "execution_count": 24,
     "metadata": {},
     "output_type": "execute_result"
    }
   ],
   "source": [
    "#evaluating the model's performance\n",
    "evaluation(y_test=y_test, y_pred=y_pred)"
   ]
  },
  {
   "cell_type": "code",
   "execution_count": 32,
   "id": "acf0a156",
   "metadata": {},
   "outputs": [],
   "source": [
    "single_inp = clean_input(\"Everyone deserves to be treated with kindness and respect, no matter their background.\")"
   ]
  },
  {
   "cell_type": "code",
   "execution_count": 33,
   "id": "dff38d7c",
   "metadata": {},
   "outputs": [
    {
     "data": {
      "text/plain": [
       "(1, 100)"
      ]
     },
     "execution_count": 33,
     "metadata": {},
     "output_type": "execute_result"
    }
   ],
   "source": [
    "single_inp.shape"
   ]
  },
  {
   "cell_type": "code",
   "execution_count": 34,
   "id": "ca142de6",
   "metadata": {},
   "outputs": [
    {
     "name": "stdout",
     "output_type": "stream",
     "text": [
      "\u001b[1m1/1\u001b[0m \u001b[32m━━━━━━━━━━━━━━━━━━━━\u001b[0m\u001b[37m\u001b[0m \u001b[1m0s\u001b[0m 32ms/step\n"
     ]
    },
    {
     "data": {
      "text/plain": [
       "array([[0.0007238]], dtype=float32)"
      ]
     },
     "execution_count": 34,
     "metadata": {},
     "output_type": "execute_result"
    }
   ],
   "source": [
    "model.predict(single_inp)"
   ]
  },
  {
   "cell_type": "code",
   "execution_count": 35,
   "id": "a7b7c758",
   "metadata": {},
   "outputs": [],
   "source": [
    "single_inp_2 = clean_input(\"People of this group are retarded, they dont belong here\")"
   ]
  },
  {
   "cell_type": "code",
   "execution_count": 36,
   "id": "22fd5585",
   "metadata": {},
   "outputs": [
    {
     "data": {
      "text/plain": [
       "(1, 100)"
      ]
     },
     "execution_count": 36,
     "metadata": {},
     "output_type": "execute_result"
    }
   ],
   "source": [
    "single_inp_2.shape"
   ]
  },
  {
   "cell_type": "code",
   "execution_count": 37,
   "id": "16d4a571",
   "metadata": {},
   "outputs": [
    {
     "name": "stdout",
     "output_type": "stream",
     "text": [
      "\u001b[1m1/1\u001b[0m \u001b[32m━━━━━━━━━━━━━━━━━━━━\u001b[0m\u001b[37m\u001b[0m \u001b[1m0s\u001b[0m 32ms/step\n"
     ]
    },
    {
     "data": {
      "text/plain": [
       "array([[0.9990677]], dtype=float32)"
      ]
     },
     "execution_count": 37,
     "metadata": {},
     "output_type": "execute_result"
    }
   ],
   "source": [
    "model.predict(single_inp_2)"
   ]
  },
  {
   "cell_type": "code",
   "execution_count": 38,
   "id": "5b4703e2",
   "metadata": {},
   "outputs": [
    {
     "data": {
      "text/plain": [
       "['Model/tokenizer.joblib']"
      ]
     },
     "execution_count": 38,
     "metadata": {},
     "output_type": "execute_result"
    }
   ],
   "source": [
    "#dumping the trained model and tokenizer\n",
    "import joblib\n",
    "joblib.dump(model, 'Model/model.joblib')\n",
    "joblib.dump(tokenizer, 'Model/tokenizer.joblib')"
   ]
  }
 ],
 "metadata": {
  "kernelspec": {
   "display_name": "Python 3",
   "language": "python",
   "name": "python3"
  },
  "language_info": {
   "codemirror_mode": {
    "name": "ipython",
    "version": 3
   },
   "file_extension": ".py",
   "mimetype": "text/x-python",
   "name": "python",
   "nbconvert_exporter": "python",
   "pygments_lexer": "ipython3",
   "version": "3.12.0"
  }
 },
 "nbformat": 4,
 "nbformat_minor": 5
}
